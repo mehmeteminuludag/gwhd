{
 "cells": [
  {
   "cell_type": "code",
   "execution_count": 1,
   "id": "c064af0f-0580-43e6-aa13-ad869d2a368f",
   "metadata": {},
   "outputs": [],
   "source": [
    "import numpy as np\n",
    "import pandas as pd\n",
    "import os\n",
    "import shutil"
   ]
  },
  {
   "cell_type": "code",
   "execution_count": 8,
   "id": "d5ff3974",
   "metadata": {},
   "outputs": [],
   "source": [
    "def reorganise_gwhd(file_path,new_path):\n",
    "    #csv dosyaları data frame ; images bilgileride dizi olarak alınıyor\n",
    "    images_path=file_path+\"\\\\images\"\n",
    "    test_path = file_path + \"\\\\competition_test.csv\"                          \n",
    "    train_path = file_path + \"\\\\competition_train.csv\"                              \n",
    "    val_path= file_path + \"\\\\competition_val.csv\"\n",
    "\n",
    "    types_names=[\"train\",\"test\",\"val\"]\n",
    "\n",
    "    test_csv = pd.read_csv(test_path)\n",
    "    train_csv = pd.read_csv(train_path)                  \n",
    "    val_csv = pd.read_csv(val_path)\n",
    "    images=os.listdir(images_path)\n",
    "\n",
    "    #bütün etikteler karıştırılıyor bunun sebebi verinin bize sunulmuş halinde train test val yapılarında sınıf dağılımı eşit değil buda başarıyı önemli ölçüde olumsuz etkileyebilir\n",
    "\n",
    "    all_csv=pd.concat([train_csv,test_csv,val_csv],ignore_index=True)\n",
    "    shuffed_csv=all_csv.sample(frac=1).reset_index(drop=True)\n",
    "\n",
    "\n",
    "    #karıştırılmış veri tekrar train,test,val olarak bölünüyor\n",
    "    first_point=int(len(shuffed_csv)*0.6)\n",
    "    second_point=int(first_point+((len(shuffed_csv)-first_point)/2))\n",
    "\n",
    "\n",
    "    train=shuffed_csv[:first_point]\n",
    "    test=shuffed_csv[first_point:second_point]\n",
    "    val=shuffed_csv[second_point:]\n",
    "\n",
    "    #buğday türleri types listesinde tutuluyor\n",
    "    label_path=file_path+\"\\\\\"+\"metadata_dataset.csv\"\n",
    "    labels=pd.read_csv(label_path)\n",
    "\n",
    "    types=[]\n",
    "    for label in labels.iterrows():\n",
    "        type=label[1][0].split(';')[0]\n",
    "        types.append(type.lower())\n",
    "\n",
    "    new_images_path=new_path+\"\\\\images\"\n",
    "    labels_path=new_path+\"\\\\labels\"\n",
    "    os.makedirs(new_images_path)\n",
    "    os.makedirs(labels_path)\n",
    "    #her veri için görsel ve etiket gruplandırılması yapılıp yeni konumlarına yerleştiriliyor.\n",
    "    all_datas=[train,test,val]\n",
    "    for k in range(len(all_datas)):\n",
    "        data=all_datas[k]\n",
    "        for i in range(len(data)):\n",
    "            type=data.iloc[i][\"domain\"]\n",
    "            name=data.iloc[i][\"image_name\"]\n",
    "            cordinates=data.iloc[i][\"BoxesString\"]\n",
    "\n",
    "            image_file_path=new_images_path+\"\\\\\"+types_names[k]+\"\\\\\"+type\n",
    "            if not os.path.exists(image_file_path):\n",
    "                        os.makedirs(image_file_path)\n",
    "            shutil.copy(images_path+\"\\\\\"+name,image_file_path)\n",
    "            \n",
    "            type_file_path=labels_path+\"\\\\\"+types_names[k]+\"\\\\\"+type\n",
    "            if not os.path.exists(type_file_path):\n",
    "                        os.makedirs(type_file_path)\n",
    "\n",
    "            index=types.index(type.lower())\n",
    "            new_text_path=type_file_path+\"\\\\\"+name.replace(\".png\", \"\")+\".txt\"\n",
    "            with open(new_text_path,'w') as file:\n",
    "                    for cordinate in cordinates.split(\";\"):\n",
    "                        file.write(f\"{str(index)} {cordinate}\\n\")"
   ]
  },
  {
   "cell_type": "code",
   "execution_count": 9,
   "id": "c8bc04d1",
   "metadata": {},
   "outputs": [
    {
     "name": "stderr",
     "output_type": "stream",
     "text": [
      "C:\\Users\\Mehmet\\AppData\\Local\\Temp\\ipykernel_18716\\1434259899.py:36: FutureWarning: Series.__getitem__ treating keys as positions is deprecated. In a future version, integer keys will always be treated as labels (consistent with DataFrame behavior). To access a value by position, use `ser.iloc[pos]`\n",
      "  type=label[1][0].split(';')[0]\n"
     ]
    }
   ],
   "source": [
    "file_path=\"D:\\\\tarimda_yapay_zeka\\\\VERİLER\\\\gwhd_2021\"  #dataset in mevcut konumu\n",
    "new_path=\"D:\\\\tarimda_yapay_zeka\\\\VERİLER\\\\data\"        #düzenlenmiş verilerin yeni konumu\n",
    "\n",
    "reorganise_gwhd(file_path,new_path)"
   ]
  }
 ],
 "metadata": {
  "kernelspec": {
   "display_name": "Python 3 (ipykernel)",
   "language": "python",
   "name": "python3"
  },
  "language_info": {
   "codemirror_mode": {
    "name": "ipython",
    "version": 3
   },
   "file_extension": ".py",
   "mimetype": "text/x-python",
   "name": "python",
   "nbconvert_exporter": "python",
   "pygments_lexer": "ipython3",
   "version": "3.9.20"
  }
 },
 "nbformat": 4,
 "nbformat_minor": 5
}
